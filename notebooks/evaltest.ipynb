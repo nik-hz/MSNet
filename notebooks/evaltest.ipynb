{
 "cells": [
  {
   "cell_type": "code",
   "execution_count": 15,
   "metadata": {},
   "outputs": [],
   "source": [
    "import numpy as np\n",
    "import os\n",
    "import time\n",
    "\n",
    "import torch\n",
    "from PIL import Image\n",
    "from torch.autograd import Variable\n",
    "from torchvision import transforms\n",
    "from sklearn.metrics import jaccard_score, accuracy_score\n",
    "import matplotlib.pyplot as plt\n",
    "import skimage.io\n",
    "\n",
    "from config import msd_testing_root\n",
    "from misc import check_mkdir, crf_refine\n",
    "from mirrornet import MirrorNet\n",
    "from misc import compute_iou, compute_acc_mirror, compute_acc_image, compute_mae, compute_ber"
   ]
  },
  {
   "cell_type": "code",
   "execution_count": 11,
   "metadata": {},
   "outputs": [],
   "source": [
    "device_ids = [0]\n",
    "torch.cuda.set_device(device_ids[0])\n",
    "data_root = \"/home/research/Datasets/NormalNet/MSD/test\"\n",
    "ckpt_path = \"./final_results\"\n",
    "exp_name = \"MirrorNet\"\n",
    "args = {\"snapshot\": \"160\", \"scale\": 384, \"crf\": True}\n",
    "\n",
    "img_transform = transforms.Compose(\n",
    "    [\n",
    "        transforms.Resize((args[\"scale\"], args[\"scale\"])),\n",
    "        transforms.ToTensor(),\n",
    "        transforms.Normalize([0.485, 0.456, 0.406], [0.229, 0.224, 0.225]),\n",
    "    ]\n",
    ")\n",
    "\n",
    "to_test = {\"MSD\": msd_testing_root}\n",
    "\n",
    "to_pil = transforms.ToPILImage()\n",
    "\n",
    "device = torch.device(\"cuda:1\" if torch.cuda.is_available() else \"cpu\")"
   ]
  },
  {
   "cell_type": "code",
   "execution_count": 12,
   "metadata": {},
   "outputs": [
    {
     "name": "stdout",
     "output_type": "stream",
     "text": [
      "trying to load weights from /home/research/Datasets/NormalNet/ICCV2019_MirrorNet/backbone/resnext/resnext_101_32x4d.pth\n",
      "Load ResNeXt Weights Succeed!\n"
     ]
    },
    {
     "data": {
      "text/plain": [
       "<All keys matched successfully>"
      ]
     },
     "execution_count": 12,
     "metadata": {},
     "output_type": "execute_result"
    }
   ],
   "source": [
    "net = MirrorNet(\n",
    "        backbone_path=\"/home/research/Datasets/NormalNet/ICCV2019_MirrorNet/backbone/resnext/resnext_101_32x4d.pth\"\n",
    "    ).to(device)\n",
    "\n",
    "finetuned_path = os.path.join(ckpt_path, f\"{exp_name}_base.pth\")\n",
    "    # net.load_state_dict(torch.load(finetuned_path))\n",
    "net.load_state_dict(torch.load(finetuned_path, map_location=torch.device(\"cuda\")))"
   ]
  },
  {
   "cell_type": "code",
   "execution_count": 18,
   "metadata": {},
   "outputs": [
    {
     "ename": "AttributeError",
     "evalue": "'PngImageFile' object has no attribute 'shape'",
     "output_type": "error",
     "traceback": [
      "\u001b[0;31m---------------------------------------------------------------------------\u001b[0m",
      "\u001b[0;31mAttributeError\u001b[0m                            Traceback (most recent call last)",
      "Cell \u001b[0;32mIn[18], line 22\u001b[0m\n\u001b[1;32m     19\u001b[0m predict_mask \u001b[38;5;241m=\u001b[39m Image\u001b[38;5;241m.\u001b[39mopen(img_path)\n\u001b[1;32m     21\u001b[0m \u001b[38;5;66;03m# Visualization\u001b[39;00m\n\u001b[0;32m---> 22\u001b[0m iou_score \u001b[38;5;241m=\u001b[39m \u001b[43mcompute_iou\u001b[49m\u001b[43m(\u001b[49m\u001b[43mpredict_mask\u001b[49m\u001b[43m,\u001b[49m\u001b[43m \u001b[49m\u001b[43mgt_mask\u001b[49m\u001b[43m)\u001b[49m\n\u001b[1;32m     23\u001b[0m acc_mirror \u001b[38;5;241m=\u001b[39m compute_acc_mirror(predict_mask, gt_mask)\n\u001b[1;32m     24\u001b[0m acc_image \u001b[38;5;241m=\u001b[39m compute_acc_image(predict_mask, gt_mask)\n",
      "File \u001b[0;32m~/Datasets/NormalNet/ICCV2019_MirrorNet/misc.py:144\u001b[0m, in \u001b[0;36mcompute_iou\u001b[0;34m(predict_mask, gt_mask)\u001b[0m\n\u001b[1;32m    138\u001b[0m \u001b[38;5;28;01mdef\u001b[39;00m \u001b[38;5;21mcompute_iou\u001b[39m(predict_mask, gt_mask):\n\u001b[1;32m    139\u001b[0m \u001b[38;5;250m    \u001b[39m\u001b[38;5;124;03m\"\"\"\u001b[39;00m\n\u001b[1;32m    140\u001b[0m \u001b[38;5;124;03m    (1/n_cl) * sum_i(n_ii / (t_i + sum_j(n_ji) - n_ii))\u001b[39;00m\n\u001b[1;32m    141\u001b[0m \u001b[38;5;124;03m    Here, n_cl = 1 as we have only one class (mirror).\u001b[39;00m\n\u001b[1;32m    142\u001b[0m \u001b[38;5;124;03m    \"\"\"\u001b[39;00m\n\u001b[0;32m--> 144\u001b[0m     \u001b[43mcheck_size\u001b[49m\u001b[43m(\u001b[49m\u001b[43mpredict_mask\u001b[49m\u001b[43m,\u001b[49m\u001b[43m \u001b[49m\u001b[43mgt_mask\u001b[49m\u001b[43m)\u001b[49m\n\u001b[1;32m    146\u001b[0m     \u001b[38;5;28;01mif\u001b[39;00m np\u001b[38;5;241m.\u001b[39msum(predict_mask) \u001b[38;5;241m==\u001b[39m \u001b[38;5;241m0\u001b[39m \u001b[38;5;129;01mor\u001b[39;00m np\u001b[38;5;241m.\u001b[39msum(gt_mask) \u001b[38;5;241m==\u001b[39m \u001b[38;5;241m0\u001b[39m:\n\u001b[1;32m    147\u001b[0m         iou_ \u001b[38;5;241m=\u001b[39m \u001b[38;5;241m0\u001b[39m\n",
      "File \u001b[0;32m~/Datasets/NormalNet/ICCV2019_MirrorNet/misc.py:227\u001b[0m, in \u001b[0;36mcheck_size\u001b[0;34m(eval_segm, gt_segm)\u001b[0m\n\u001b[1;32m    226\u001b[0m \u001b[38;5;28;01mdef\u001b[39;00m \u001b[38;5;21mcheck_size\u001b[39m(eval_segm, gt_segm):\n\u001b[0;32m--> 227\u001b[0m     h_e, w_e \u001b[38;5;241m=\u001b[39m \u001b[43msegm_size\u001b[49m\u001b[43m(\u001b[49m\u001b[43meval_segm\u001b[49m\u001b[43m)\u001b[49m\n\u001b[1;32m    228\u001b[0m     h_g, w_g \u001b[38;5;241m=\u001b[39m segm_size(gt_segm)\n\u001b[1;32m    230\u001b[0m     \u001b[38;5;28;01mif\u001b[39;00m (h_e \u001b[38;5;241m!=\u001b[39m h_g) \u001b[38;5;129;01mor\u001b[39;00m (w_e \u001b[38;5;241m!=\u001b[39m w_g):\n",
      "File \u001b[0;32m~/Datasets/NormalNet/ICCV2019_MirrorNet/misc.py:218\u001b[0m, in \u001b[0;36msegm_size\u001b[0;34m(segm)\u001b[0m\n\u001b[1;32m    216\u001b[0m \u001b[38;5;28;01mdef\u001b[39;00m \u001b[38;5;21msegm_size\u001b[39m(segm):\n\u001b[1;32m    217\u001b[0m     \u001b[38;5;28;01mtry\u001b[39;00m:\n\u001b[0;32m--> 218\u001b[0m         height \u001b[38;5;241m=\u001b[39m \u001b[43msegm\u001b[49m\u001b[38;5;241;43m.\u001b[39;49m\u001b[43mshape\u001b[49m[\u001b[38;5;241m0\u001b[39m]\n\u001b[1;32m    219\u001b[0m         width  \u001b[38;5;241m=\u001b[39m segm\u001b[38;5;241m.\u001b[39mshape[\u001b[38;5;241m1\u001b[39m]\n\u001b[1;32m    220\u001b[0m     \u001b[38;5;28;01mexcept\u001b[39;00m \u001b[38;5;167;01mIndexError\u001b[39;00m:\n",
      "\u001b[0;31mAttributeError\u001b[0m: 'PngImageFile' object has no attribute 'shape'"
     ]
    }
   ],
   "source": [
    "net.eval()\n",
    "\n",
    "with torch.no_grad():\n",
    "    img_list = [\n",
    "                img_name\n",
    "                for img_name in os.listdir(\n",
    "                    \"/home/research/Datasets/NormalNet/ICCV2019_MirrorNet/final_results/MirrorNet/MirrorNet_160_nocrf\"\n",
    "                )\n",
    "            ]\n",
    "    for idx, img_name in enumerate(img_list):\n",
    "        gt_mask = Image.open(\n",
    "                    os.path.join(\n",
    "                        \"/home/research/Datasets/NormalNet/MSD/test/\",\n",
    "                        \"mask\",\n",
    "                        f\"{img_name.split('.',1)[0]}.png\",\n",
    "                    )\n",
    "                )\n",
    "        img_path = os.path.join(\"/home/research/Datasets/NormalNet/ICCV2019_MirrorNet/final_results/MirrorNet/MirrorNet_160_nocrf\", img_name)\n",
    "        predict_mask = Image.open(img_path)\n",
    "        \n",
    "        # Visualization\n",
    "        iou_score = compute_iou(predict_mask, gt_mask)\n",
    "        acc_mirror = compute_acc_mirror(predict_mask, gt_mask)\n",
    "        acc_image = compute_acc_image(predict_mask, gt_mask)\n",
    "        mae = compute_mae(predict_mask, gt_mask)\n",
    "        ber = compute_ber(predict_mask, gt_mask)\n",
    "        \n",
    "        # Visualization\n",
    "        plt.figure(figsize=(12, 6))\n",
    "        \n",
    "        plt.subplot(1, 3, 1)\n",
    "        plt.imshow(np.array(Image.open(os.path.join(\"/path/to/images\", img_name))))\n",
    "        plt.title(f\"Image: {img_name}\")\n",
    "        plt.axis('off')\n",
    "        \n",
    "        plt.subplot(1, 3, 2)\n",
    "        plt.imshow(gt_mask, cmap='gray')\n",
    "        plt.title(\"Ground Truth Mask\")\n",
    "        plt.axis('off')\n",
    "\n",
    "        plt.subplot(1, 3, 3)\n",
    "        plt.imshow(predict_mask, cmap='gray')\n",
    "        plt.title(\"Predicted Mask\")\n",
    "        plt.axis('off')\n",
    "        \n",
    "        plt.suptitle(f\"IoU: {iou_score:.3f}, Acc (Mirror): {acc_mirror:.3f}, Acc (Image): {acc_image:.3f}, MAE: {mae:.3f}, BER: {ber:.3f}\")\n",
    "        \n",
    "        plt.show()\n",
    "        \n",
    "        # For demonstration, let's break after the first image-mask pair to avoid flooding the output.\n",
    "        break\n"
   ]
  },
  {
   "cell_type": "code",
   "execution_count": null,
   "metadata": {},
   "outputs": [],
   "source": []
  }
 ],
 "metadata": {
  "kernelspec": {
   "display_name": "torch",
   "language": "python",
   "name": "python3"
  },
  "language_info": {
   "codemirror_mode": {
    "name": "ipython",
    "version": 3
   },
   "file_extension": ".py",
   "mimetype": "text/x-python",
   "name": "python",
   "nbconvert_exporter": "python",
   "pygments_lexer": "ipython3",
   "version": "3.11.8"
  }
 },
 "nbformat": 4,
 "nbformat_minor": 2
}
